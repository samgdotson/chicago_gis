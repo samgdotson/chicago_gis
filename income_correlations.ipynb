{
 "cells": [
  {
   "cell_type": "code",
   "execution_count": 2,
   "metadata": {},
   "outputs": [],
   "source": [
    "import numpy as np\n",
    "import matplotlib.pyplot as plt\n",
    "import pandas as pd\n",
    "import seaborn as sb\n",
    "import glob\n",
    "import geopandas as gp\n",
    "from sklearn.metrics import mean_squared_error\n",
    "import statsmodels.api as sm\n",
    "plt.rcParams['figure.figsize'] = (12,9)\n",
    "plt.rcParams['figure.facecolor']='w'\n",
    "plt.rcParams['font.family'] = \"serif\"\n",
    "import warnings\n",
    "warnings.filterwarnings('ignore')"
   ]
  },
  {
   "cell_type": "code",
   "execution_count": 3,
   "metadata": {},
   "outputs": [],
   "source": [
    "def linear_fit(df):\n",
    "    x = df.iloc[:,0]\n",
    "    y_i = df.iloc[:,1]\n",
    "    x2 = sm.add_constant(x)\n",
    "    mod_uni = sm.OLS(y_i,x2).fit()\n",
    "\n",
    "    return mod_uni"
   ]
  },
  {
   "cell_type": "code",
   "execution_count": 4,
   "metadata": {},
   "outputs": [],
   "source": [
    "chicago = gp.read_file('processed_data/chicago_data_v03.shp')"
   ]
  },
  {
   "cell_type": "code",
   "execution_count": 5,
   "metadata": {},
   "outputs": [
    {
     "data": {
      "text/plain": [
       "Index(['geoid10', 'commarea', 'commarea_n', 'H_a', 'H_amin', 'TOTAL POPU',\n",
       "       'crime_coun', 'is_violent', 'tract_area', 'pct_park', 'n_churches',\n",
       "       'n_public', 'n_private', 'n_librarie', 'percent_qu', 'number_of_',\n",
       "       'kw_total', 'existing_i', 'COMMUNITY', 'PERCENT OF', 'PERCENT HO',\n",
       "       'PERCENT AG', 'PER CAPITA', 'HARDSHIP I', 'PERCENT_CA', 'EBF_PFS',\n",
       "       'geometry'],\n",
       "      dtype='object')"
      ]
     },
     "execution_count": 5,
     "metadata": {},
     "output_type": "execute_result"
    }
   ],
   "source": [
    "chicago.columns"
   ]
  },
  {
   "cell_type": "code",
   "execution_count": 6,
   "metadata": {},
   "outputs": [],
   "source": [
    "chicago.columns = ['geoid10', 'commarea', 'commarea_n', 'H_a', 'H_amin', 'population',\n",
    "       'crime_count', 'is_violent', 'tract_area', 'pct_park', 'n_churches',\n",
    "       'n_public', 'n_private', 'n_libraries', 'percent_qualified', 'n_panels',\n",
    "       'kw_total', 'existing_installed', 'comm_name', 'pct_crowded', 'pct_poverty',\n",
    "       'pct_over65_under18', 'percap_income', 'hardship_index', 'pct_treecanopy', 'pct_energyburden','geometry']"
   ]
  },
  {
   "cell_type": "code",
   "execution_count": 23,
   "metadata": {},
   "outputs": [
    {
     "data": {
      "text/plain": [
       "<matplotlib.collections.PathCollection at 0x7fdd41f464c0>"
      ]
     },
     "execution_count": 23,
     "metadata": {},
     "output_type": "execute_result"
    },
    {
     "data": {
      "image/png": "[encoded data removed]",
      "text/plain": [
       "<Figure size 864x648 with 1 Axes>"
      ]
     },
     "metadata": {},
     "output_type": "display_data"
    }
   ],
   "source": [
    "fig, ax = plt.subplots()\n",
    "ax.scatter(chicago['percap_income'], chicago['H_amin'])"
   ]
  },
  {
   "cell_type": "code",
   "execution_count": 18,
   "metadata": {},
   "outputs": [],
   "source": [
    "model = linear_fit(chicago[['hardship_index','H_amin']])"
   ]
  },
  {
   "cell_type": "code",
   "execution_count": 22,
   "metadata": {},
   "outputs": [
    {
     "data": {
      "text/plain": [
       "[<matplotlib.lines.Line2D at 0x7fdd41ccf430>]"
      ]
     },
     "execution_count": 22,
     "metadata": {},
     "output_type": "execute_result"
    },
    {
     "data": {
      "image/png": "[encoded data removed]",
      "text/plain": [
       "<Figure size 864x648 with 1 Axes>"
      ]
     },
     "metadata": {},
     "output_type": "display_data"
    }
   ],
   "source": [
    "fig, ax = plt.subplots()\n",
    "ax.scatter(chicago['percap_income'], chicago['H_amin'])\n",
    "ax.plot(chicago[''],model.fittedvalues)"
   ]
  },
  {
   "cell_type": "code",
   "execution_count": 21,
   "metadata": {},
   "outputs": [
    {
     "name": "stdout",
     "output_type": "stream",
     "text": [
      "                            OLS Regression Results                            \n",
      "==============================================================================\n",
      "Dep. Variable:                 H_amin   R-squared:                       0.265\n",
      "Model:                            OLS   Adj. R-squared:                  0.265\n",
      "Method:                 Least Squares   F-statistic:                     305.0\n",
      "Date:                Tue, 10 May 2022   Prob (F-statistic):           1.55e-58\n",
      "Time:                        08:33:13   Log-Likelihood:                -898.38\n",
      "No. Observations:                 846   AIC:                             1801.\n",
      "Df Residuals:                     844   BIC:                             1810.\n",
      "Df Model:                           1                                         \n",
      "Covariance Type:            nonrobust                                         \n",
      "==================================================================================\n",
      "                     coef    std err          t      P>|t|      [0.025      0.975]\n",
      "----------------------------------------------------------------------------------\n",
      "const              0.9527      0.043     21.931      0.000       0.867       1.038\n",
      "hardship_index     0.0139      0.001     17.464      0.000       0.012       0.015\n",
      "==============================================================================\n",
      "Omnibus:                       47.072   Durbin-Watson:                   0.151\n",
      "Prob(Omnibus):                  0.000   Jarque-Bera (JB):               53.575\n",
      "Skew:                           0.592   Prob(JB):                     2.32e-12\n",
      "Kurtosis:                       3.345   Cond. No.                         98.6\n",
      "==============================================================================\n",
      "\n",
      "Warnings:\n",
      "[1] Standard Errors assume that the covariance matrix of the errors is correctly specified.\n"
     ]
    }
   ],
   "source": [
    "print(model.summary())"
   ]
  },
  {
   "cell_type": "code",
   "execution_count": null,
   "metadata": {},
   "outputs": [],
   "source": []
  }
 ],
 "metadata": {
  "kernelspec": {
   "display_name": "Python 3",
   "language": "python",
   "name": "python3"
  },
  "language_info": {
   "codemirror_mode": {
    "name": "ipython",
    "version": 3
   },
   "file_extension": ".py",
   "mimetype": "text/x-python",
   "name": "python",
   "nbconvert_exporter": "python",
   "pygments_lexer": "ipython3",
   "version": "3.8.3"
  }
 },
 "nbformat": 4,
 "nbformat_minor": 4
}
